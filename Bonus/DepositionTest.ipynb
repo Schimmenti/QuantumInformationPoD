{
 "cells": [
  {
   "cell_type": "code",
   "execution_count": 65,
   "metadata": {},
   "outputs": [],
   "source": [
    "import numpy as np\n",
    "import matplotlib.pyplot as plt"
   ]
  },
  {
   "cell_type": "code",
   "execution_count": 66,
   "metadata": {},
   "outputs": [],
   "source": [
    "N = 1000\n",
    "M = 20000\n",
    "p = 0.5\n",
    "X = np.zeros((M,N), dtype=int)"
   ]
  },
  {
   "cell_type": "code",
   "execution_count": 67,
   "metadata": {},
   "outputs": [],
   "source": [
    "for t in range(1,M):\n",
    "    X[t,:]=X[t-1,:]\n",
    "    i = np.random.randint(low=0,high=N)\n",
    "    i_p = (i-1)%N\n",
    "    i_n = (i+1)%N\n",
    "    sX=X[t,i]+1\n",
    "    lX = X[t,i_p]\n",
    "    rX = X[t,i_n]\n",
    "    if(sX>lX and sX > rX):\n",
    "        if (np.random.rand() <= p):\n",
    "            X[t,i_p]=lX+1\n",
    "        else:\n",
    "            X[t,i_n]=rX+1\n",
    "    elif(sX>lX):\n",
    "        X[t,i_p]=lX+1\n",
    "    elif(sX>rX):\n",
    "        X[t,i_n]=rX+1\n",
    "    else:\n",
    "        X[t,i]=sX"
   ]
  },
  {
   "cell_type": "code",
   "execution_count": 68,
   "metadata": {},
   "outputs": [
    {
     "name": "stderr",
     "output_type": "stream",
     "text": [
      "/home/vicio/anaconda3/lib/python3.7/site-packages/ipykernel_launcher.py:1: RuntimeWarning: divide by zero encountered in log\n",
      "  \"\"\"Entry point for launching an IPython kernel.\n"
     ]
    },
    {
     "data": {
      "image/png": "[encoded data removed]",
      "text/plain": [
       "<Figure size 432x288 with 1 Axes>"
      ]
     },
     "metadata": {
      "needs_background": "light"
     },
     "output_type": "display_data"
    }
   ],
   "source": [
    "plt.plot(np.log(np.arange(M)),np.log(np.std(X,axis=1)))\n",
    "plt.show()"
   ]
  },
  {
   "cell_type": "code",
   "execution_count": null,
   "metadata": {},
   "outputs": [],
   "source": []
  }
 ],
 "metadata": {
  "kernelspec": {
   "display_name": "Python 3",
   "language": "python",
   "name": "python3"
  },
  "language_info": {
   "codemirror_mode": {
    "name": "ipython",
    "version": 3
   },
   "file_extension": ".py",
   "mimetype": "text/x-python",
   "name": "python",
   "nbconvert_exporter": "python",
   "pygments_lexer": "ipython3",
   "version": "3.7.3"
  }
 },
 "nbformat": 4,
 "nbformat_minor": 2
}
