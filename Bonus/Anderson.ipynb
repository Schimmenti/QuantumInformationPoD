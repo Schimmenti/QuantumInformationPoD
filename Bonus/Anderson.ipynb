{
 "cells": [
  {
   "cell_type": "code",
   "execution_count": 16,
   "metadata": {},
   "outputs": [],
   "source": [
    "import numpy as np\n",
    "from numba import jit\n",
    "import matplotlib.pyplot as plt\n",
    "import scipy.linalg as lalg"
   ]
  },
  {
   "cell_type": "code",
   "execution_count": 17,
   "metadata": {},
   "outputs": [],
   "source": [
    "def laplacian1d(nPoints):\n",
    "    H = np.zeros((nPoints,nPoints))\n",
    "    H[np.diag_indices(nPoints)]=-2\n",
    "    uppDiag = (np.arange(nPoints-1), np.arange(1,nPoints))\n",
    "    lowDiag = (np.arange(1,nPoints), np.arange(0,nPoints-1))\n",
    "    H[uppDiag]=1\n",
    "    H[lowDiag]=1\n",
    "    return H\n",
    "def lapacian1dTrDiag(nPoints):\n",
    "    return -2*np.ones(nPoints), np.ones(nPoints-1)"
   ]
  },
  {
   "cell_type": "code",
   "execution_count": 31,
   "metadata": {},
   "outputs": [],
   "source": [
    "def randomGaussianPotential(xmin, xmax,nPoints,sigma):\n",
    "    hD, hOD = lapacian1dTrDiag(1000)\n",
    "    x = np.linspace(xmin, xmax, nPoints)\n",
    "    eps = (xmax-xmin)/nPoints\n",
    "    hD =-hD/(2*eps**2)\n",
    "    hOD=-hOD/(2*eps**2)\n",
    "    hD = hD + np.random.randn(nPoints)*sigma\n",
    "    w, v = lalg.eigh_tridiagonal(hD, hOD,select='i', select_range=(0,0))\n",
    "    return w,v"
   ]
  },
  {
   "cell_type": "code",
   "execution_count": 57,
   "metadata": {},
   "outputs": [],
   "source": [
    "nSamples = 1000\n",
    "energies = []\n",
    "stds = []\n",
    "sigmas = np.linspace(0,100)\n",
    "for sigma in sigmas:\n",
    "    Es = np.zeros(nSamples)\n",
    "    for sample in np.arange(nSamples):\n",
    "        E, psi = randomGaussianPotential(0,1,1000,sigma)\n",
    "        Es[sample] = E\n",
    "    energies.append(np.mean(Es))\n",
    "    stds.append(np.std(Es))"
   ]
  },
  {
   "cell_type": "code",
   "execution_count": 65,
   "metadata": {},
   "outputs": [
    {
     "data": {
      "text/plain": [
       "<matplotlib.collections.PolyCollection at 0x26e9956bb08>"
      ]
     },
     "execution_count": 65,
     "metadata": {},
     "output_type": "execute_result"
    },
    {
     "data": {
      "image/png": "[encoded data removed]",
      "text/plain": [
       "<Figure size 432x288 with 1 Axes>"
      ]
     },
     "metadata": {
      "needs_background": "light"
     },
     "output_type": "display_data"
    }
   ],
   "source": [
    "energies = np.array(energies)\n",
    "stds = np.array(stds)\n",
    "plt.plot(sigmas,energies)\n",
    "plt.fill_between(sigmas, energies-stds, energies+stds, color='orangered', alpha=0.5)"
   ]
  },
  {
   "cell_type": "code",
   "execution_count": null,
   "metadata": {},
   "outputs": [],
   "source": []
  }
 ],
 "metadata": {
  "kernelspec": {
   "display_name": "Python 3",
   "language": "python",
   "name": "python3"
  },
  "language_info": {
   "codemirror_mode": {
    "name": "ipython",
    "version": 3
   },
   "file_extension": ".py",
   "mimetype": "text/x-python",
   "name": "python",
   "nbconvert_exporter": "python",
   "pygments_lexer": "ipython3",
   "version": "3.7.4"
  }
 },
 "nbformat": 4,
 "nbformat_minor": 2
}
